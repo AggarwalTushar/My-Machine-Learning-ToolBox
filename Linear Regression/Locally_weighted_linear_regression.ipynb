{
 "cells": [
  {
   "cell_type": "markdown",
   "metadata": {},
   "source": [
    "### Importing the required libraries"
   ]
  },
  {
   "cell_type": "code",
   "execution_count": 12,
   "metadata": {},
   "outputs": [],
   "source": [
    "import pandas as pd\n",
    "import numpy as np\n",
    "import matplotlib.pyplot as plt\n",
    "%matplotlib inline"
   ]
  },
  {
   "cell_type": "markdown",
   "metadata": {},
   "source": [
    "### Locally weighted Linear Regression\n",
    "\n",
    "When our data is non-linear, Linear Regression would end up giving us large errors as it wtries to fit a straight line. The aim behind Locally weighted Linear Regression is that we give our model certain $x$ where we want to make the predictions. The model then gives all the $x_i$ around that $x$ a higher weight close to one, and the rest of $x_i$ get a lower weight close to zero. A straight line is then fit to that weighted $x_i$'s data.\n",
    "\n",
    "We have defined the following functions below:\n",
    "\n",
    "```1. weighted_matrix() function:```\n",
    "The function computes the Weighted Matrix for all the datapoints in the dataset. In Linear Regression, we had the following loss function:\n",
    "\n",
    "$$ J(w) = \\sum_{i=1}^{m} (y^i - \\theta^Tx^i)^2 $$\n",
    "\n",
    "whereas, for locally weighted Linear Regression, the loss function is odified as follows:\n",
    "\n",
    "$$ J(w) = \\sum_{i=1}^{m} w^i(y^i - \\theta^Tx^i)^2 $$\n",
    "\n",
    "where,\n",
    "\n",
    "$$ w^i = exp(\\frac{-(x^i - x)^T(x^i - x)}{2}) $$\n",
    "\n",
    "$$ \\text{$w^i$ = weight for the $i$th training sample} $$\n",
    "$$ \\text{$x^i$ = $i$th training sample} $$\n",
    "$$ \\text{$x$ = point where we want to make the prediction} $$\n",
    "\n",
    "```2. locally_weighted_linear_regression() function:```\n",
    "In this function, we directly compute the value of $\\theta$ using the following formula:\n",
    "\n",
    "$$ \\theta = (X^TWX)^{-1}(X^TWY) $$\n",
    "\n",
    "Once we have computed $\\theta$, in order to find the prediction or \"hypothesis\", we use the following:\n",
    "\n",
    "$$ \\text{hypothesis} = \\theta^TX$$"
   ]
  },
  {
   "cell_type": "code",
   "execution_count": 13,
   "metadata": {},
   "outputs": [],
   "source": [
    "def weighted_matrix(x_i, augmented_x, tau):\n",
    "    # x_i -> the point x where we have to make the prediction\n",
    "    # augmented_x -> entire training data\n",
    "    # tau -> bandwidth of the Gaussian bell-shaped curve of the weighing function\n",
    "    \n",
    "    # the total number of training samples\n",
    "    n = augmented_x.shape[0] \n",
    "\n",
    "    # initialising W = identity matrix of dimension nxn\n",
    "    w = np.mat(np.eye(n), dtype=np.float64)\n",
    "    \n",
    "    # for every training sample -> updating the weights matrix as follows:\n",
    "    for each_row in range(0, n):\n",
    "        w[each_row, each_row] = np.exp(-(np.dot(augmented_x[each_row][np.newaxis,:]-x_i[np.newaxis,:], (augmented_x[each_row][np.newaxis,:]-x_i[np.newaxis,:]).T))/(2*tau**2))\n",
    "    \n",
    "    return w"
   ]
  },
  {
   "cell_type": "code",
   "execution_count": 14,
   "metadata": {},
   "outputs": [],
   "source": [
    "def locally_weighted_linear_regression(augmented_x, true_y, x_i, tau):\n",
    "\n",
    "    # calculating the weighted matrix\n",
    "    w = weighted_matrix(x_i, augmented_x, tau)\n",
    "\n",
    "    # calculayting theta using the formula mentioned above\n",
    "    temp = np.linalg.inv(augmented_x.T * (w *augmented_x))\n",
    "    temp2 = augmented_x.T * np.dot(w,true_y)\n",
    "    theta = temp*temp2 \n",
    "    temp3 = theta.T\n",
    "    temp4 = x_i[np.newaxis,:].T\n",
    "    hypothesis = np.matmul(temp3, temp4)\n",
    "\n",
    "    return theta, hypothesis"
   ]
  },
  {
   "cell_type": "markdown",
   "metadata": {},
   "source": [
    "### Importing the required dataset\n",
    "\n",
    "We have used the Portland House Price Prediction dataset which consists of 47 datapoints. For ease of computation, we have only used the Living Area feature. We have also augmented the dataset by adding a column consisting of all values equal to 1 to the start of the dataset."
   ]
  },
  {
   "cell_type": "code",
   "execution_count": 15,
   "metadata": {},
   "outputs": [
    {
     "data": {
      "text/html": [
       "<div>\n",
       "<style scoped>\n",
       "    .dataframe tbody tr th:only-of-type {\n",
       "        vertical-align: middle;\n",
       "    }\n",
       "\n",
       "    .dataframe tbody tr th {\n",
       "        vertical-align: top;\n",
       "    }\n",
       "\n",
       "    .dataframe thead th {\n",
       "        text-align: right;\n",
       "    }\n",
       "</style>\n",
       "<table border=\"1\" class=\"dataframe\">\n",
       "  <thead>\n",
       "    <tr style=\"text-align: right;\">\n",
       "      <th></th>\n",
       "      <th>living_area</th>\n",
       "      <th>#bedrooms</th>\n",
       "      <th>price</th>\n",
       "    </tr>\n",
       "  </thead>\n",
       "  <tbody>\n",
       "    <tr>\n",
       "      <th>0</th>\n",
       "      <td>2104</td>\n",
       "      <td>3</td>\n",
       "      <td>399900</td>\n",
       "    </tr>\n",
       "    <tr>\n",
       "      <th>1</th>\n",
       "      <td>1600</td>\n",
       "      <td>3</td>\n",
       "      <td>329900</td>\n",
       "    </tr>\n",
       "    <tr>\n",
       "      <th>2</th>\n",
       "      <td>2400</td>\n",
       "      <td>3</td>\n",
       "      <td>369000</td>\n",
       "    </tr>\n",
       "    <tr>\n",
       "      <th>3</th>\n",
       "      <td>1416</td>\n",
       "      <td>2</td>\n",
       "      <td>232000</td>\n",
       "    </tr>\n",
       "    <tr>\n",
       "      <th>4</th>\n",
       "      <td>3000</td>\n",
       "      <td>4</td>\n",
       "      <td>539900</td>\n",
       "    </tr>\n",
       "  </tbody>\n",
       "</table>\n",
       "</div>"
      ],
      "text/plain": [
       "   living_area  #bedrooms   price\n",
       "0         2104          3  399900\n",
       "1         1600          3  329900\n",
       "2         2400          3  369000\n",
       "3         1416          2  232000\n",
       "4         3000          4  539900"
      ]
     },
     "execution_count": 15,
     "metadata": {},
     "output_type": "execute_result"
    }
   ],
   "source": [
    "# reading the txt file and converting it into csv file\n",
    "df = pd.read_csv(\"portland_data.txt\", header = None)\n",
    "# adding the column names\n",
    "df.columns = ['living_area', '#bedrooms', 'price']\n",
    "# storing this dataframe in a csv file\n",
    "df.to_csv('portland_house_data.csv', index = None)\n",
    "df.head()"
   ]
  },
  {
   "cell_type": "code",
   "execution_count": 16,
   "metadata": {},
   "outputs": [
    {
     "data": {
      "text/html": [
       "<div>\n",
       "<style scoped>\n",
       "    .dataframe tbody tr th:only-of-type {\n",
       "        vertical-align: middle;\n",
       "    }\n",
       "\n",
       "    .dataframe tbody tr th {\n",
       "        vertical-align: top;\n",
       "    }\n",
       "\n",
       "    .dataframe thead th {\n",
       "        text-align: right;\n",
       "    }\n",
       "</style>\n",
       "<table border=\"1\" class=\"dataframe\">\n",
       "  <thead>\n",
       "    <tr style=\"text-align: right;\">\n",
       "      <th></th>\n",
       "      <th>living_area</th>\n",
       "      <th>price</th>\n",
       "    </tr>\n",
       "  </thead>\n",
       "  <tbody>\n",
       "    <tr>\n",
       "      <th>0</th>\n",
       "      <td>2104</td>\n",
       "      <td>399900</td>\n",
       "    </tr>\n",
       "    <tr>\n",
       "      <th>1</th>\n",
       "      <td>1600</td>\n",
       "      <td>329900</td>\n",
       "    </tr>\n",
       "    <tr>\n",
       "      <th>2</th>\n",
       "      <td>2400</td>\n",
       "      <td>369000</td>\n",
       "    </tr>\n",
       "    <tr>\n",
       "      <th>3</th>\n",
       "      <td>1416</td>\n",
       "      <td>232000</td>\n",
       "    </tr>\n",
       "    <tr>\n",
       "      <th>4</th>\n",
       "      <td>3000</td>\n",
       "      <td>539900</td>\n",
       "    </tr>\n",
       "  </tbody>\n",
       "</table>\n",
       "</div>"
      ],
      "text/plain": [
       "   living_area   price\n",
       "0         2104  399900\n",
       "1         1600  329900\n",
       "2         2400  369000\n",
       "3         1416  232000\n",
       "4         3000  539900"
      ]
     },
     "execution_count": 16,
     "metadata": {},
     "output_type": "execute_result"
    }
   ],
   "source": [
    "# dropping the number of bedrooms column\n",
    "df = df.drop(['#bedrooms'], axis = 1)\n",
    "df.head()"
   ]
  },
  {
   "cell_type": "code",
   "execution_count": 17,
   "metadata": {},
   "outputs": [
    {
     "data": {
      "text/html": [
       "<div>\n",
       "<style scoped>\n",
       "    .dataframe tbody tr th:only-of-type {\n",
       "        vertical-align: middle;\n",
       "    }\n",
       "\n",
       "    .dataframe tbody tr th {\n",
       "        vertical-align: top;\n",
       "    }\n",
       "\n",
       "    .dataframe thead th {\n",
       "        text-align: right;\n",
       "    }\n",
       "</style>\n",
       "<table border=\"1\" class=\"dataframe\">\n",
       "  <thead>\n",
       "    <tr style=\"text-align: right;\">\n",
       "      <th></th>\n",
       "      <th>x0</th>\n",
       "      <th>living_area</th>\n",
       "      <th>price</th>\n",
       "    </tr>\n",
       "  </thead>\n",
       "  <tbody>\n",
       "    <tr>\n",
       "      <th>0</th>\n",
       "      <td>1</td>\n",
       "      <td>2104</td>\n",
       "      <td>399900</td>\n",
       "    </tr>\n",
       "    <tr>\n",
       "      <th>1</th>\n",
       "      <td>1</td>\n",
       "      <td>1600</td>\n",
       "      <td>329900</td>\n",
       "    </tr>\n",
       "    <tr>\n",
       "      <th>2</th>\n",
       "      <td>1</td>\n",
       "      <td>2400</td>\n",
       "      <td>369000</td>\n",
       "    </tr>\n",
       "    <tr>\n",
       "      <th>3</th>\n",
       "      <td>1</td>\n",
       "      <td>1416</td>\n",
       "      <td>232000</td>\n",
       "    </tr>\n",
       "    <tr>\n",
       "      <th>4</th>\n",
       "      <td>1</td>\n",
       "      <td>3000</td>\n",
       "      <td>539900</td>\n",
       "    </tr>\n",
       "  </tbody>\n",
       "</table>\n",
       "</div>"
      ],
      "text/plain": [
       "   x0  living_area   price\n",
       "0   1         2104  399900\n",
       "1   1         1600  329900\n",
       "2   1         2400  369000\n",
       "3   1         1416  232000\n",
       "4   1         3000  539900"
      ]
     },
     "execution_count": 17,
     "metadata": {},
     "output_type": "execute_result"
    }
   ],
   "source": [
    "# creating the augmented column\n",
    "temp = [1 for i in range(0, df.shape[0])]\n",
    "df.insert(0, 'x0', temp)\n",
    "df.head()"
   ]
  },
  {
   "cell_type": "markdown",
   "metadata": {},
   "source": [
    "### Separating the dataset into X and Y"
   ]
  },
  {
   "cell_type": "code",
   "execution_count": 18,
   "metadata": {},
   "outputs": [
    {
     "data": {
      "text/html": [
       "<div>\n",
       "<style scoped>\n",
       "    .dataframe tbody tr th:only-of-type {\n",
       "        vertical-align: middle;\n",
       "    }\n",
       "\n",
       "    .dataframe tbody tr th {\n",
       "        vertical-align: top;\n",
       "    }\n",
       "\n",
       "    .dataframe thead th {\n",
       "        text-align: right;\n",
       "    }\n",
       "</style>\n",
       "<table border=\"1\" class=\"dataframe\">\n",
       "  <thead>\n",
       "    <tr style=\"text-align: right;\">\n",
       "      <th></th>\n",
       "      <th>x0</th>\n",
       "      <th>living_area</th>\n",
       "    </tr>\n",
       "  </thead>\n",
       "  <tbody>\n",
       "    <tr>\n",
       "      <th>0</th>\n",
       "      <td>1</td>\n",
       "      <td>2104</td>\n",
       "    </tr>\n",
       "    <tr>\n",
       "      <th>1</th>\n",
       "      <td>1</td>\n",
       "      <td>1600</td>\n",
       "    </tr>\n",
       "    <tr>\n",
       "      <th>2</th>\n",
       "      <td>1</td>\n",
       "      <td>2400</td>\n",
       "    </tr>\n",
       "    <tr>\n",
       "      <th>3</th>\n",
       "      <td>1</td>\n",
       "      <td>1416</td>\n",
       "    </tr>\n",
       "    <tr>\n",
       "      <th>4</th>\n",
       "      <td>1</td>\n",
       "      <td>3000</td>\n",
       "    </tr>\n",
       "  </tbody>\n",
       "</table>\n",
       "</div>"
      ],
      "text/plain": [
       "   x0  living_area\n",
       "0   1         2104\n",
       "1   1         1600\n",
       "2   1         2400\n",
       "3   1         1416\n",
       "4   1         3000"
      ]
     },
     "execution_count": 18,
     "metadata": {},
     "output_type": "execute_result"
    }
   ],
   "source": [
    "x_df = df.iloc[:, 0:-1]\n",
    "x_df.head()"
   ]
  },
  {
   "cell_type": "code",
   "execution_count": 19,
   "metadata": {},
   "outputs": [
    {
     "data": {
      "text/plain": [
       "0    399900\n",
       "1    329900\n",
       "2    369000\n",
       "3    232000\n",
       "4    539900\n",
       "Name: price, dtype: int64"
      ]
     },
     "execution_count": 19,
     "metadata": {},
     "output_type": "execute_result"
    }
   ],
   "source": [
    "y_df = df.iloc[:, -1]\n",
    "y_df.head()"
   ]
  },
  {
   "cell_type": "code",
   "execution_count": 20,
   "metadata": {},
   "outputs": [],
   "source": [
    "augmented_x = x_df.to_numpy()\n",
    "true_y = y_df.to_numpy()\n",
    "true_y = np.array(true_y).reshape(true_y.size, 1) "
   ]
  },
  {
   "cell_type": "markdown",
   "metadata": {},
   "source": [
    "### Plotting the Predictions\n",
    "\n",
    "We predict the prices for 70 evenly spaced points ($x$) that are chosen in the domain of our Living Area feature. We have chosen a large value of tau ($\\tau$) to incorporate our sufficiently large values of Y (prices of the houses). After choosing 70 evenly spaced points, we augment the same and use the earlier defined locally_weighted_linear_regression() function to generate the predictions. A scatter plot consisting of our initial data and predictions is then plotted as shown:"
   ]
  },
  {
   "cell_type": "code",
   "execution_count": 21,
   "metadata": {},
   "outputs": [
    {
     "data": {
      "image/png": "[encoded data removed]",
      "text/plain": [
       "<Figure size 432x288 with 1 Axes>"
      ]
     },
     "metadata": {
      "needs_background": "light"
     },
     "output_type": "display_data"
    }
   ],
   "source": [
    "tau = 500\n",
    "\n",
    "# array to store our predictions\n",
    "predicted_y = [] \n",
    "\n",
    "living_area = df.iloc[:, 1:-1]\n",
    "living_area_feature = living_area.to_numpy()\n",
    "\n",
    "# choosing 70 evenly spaced points from our dataset\n",
    "X_test = np.linspace(min(living_area_feature), max(living_area_feature), 70)\n",
    "X_test_aug = np.empty(shape=(70,2))\n",
    "\n",
    "for i in range(0,X_test.size):\n",
    "    temp = X_test[i][0]\n",
    "    X_test_aug[i][0] = 1\n",
    "    X_test_aug[i][1] = temp\n",
    "\n",
    "n = len(X_test)\n",
    "\n",
    "# predicting the y values for all points in the dataset\n",
    "for each_sample in X_test_aug: \n",
    "    theta, prediction = locally_weighted_linear_regression(augmented_x, true_y, each_sample, tau) \n",
    "    predicted_y.append(prediction)\n",
    "\n",
    "X_test = np.array(X_test).reshape(n, 1) \n",
    "predicted_y = np.array(predicted_y).reshape(n, 1) \n",
    "\n",
    "# creating a scatter plot for the given initial test data \n",
    "plt.scatter(living_area_feature, true_y)\n",
    "# plotting the values for predicted y\n",
    "plt.scatter(X_test, predicted_y) \n",
    "plt.show()"
   ]
  }
 ],
 "metadata": {
  "interpreter": {
   "hash": "aee8b7b246df8f9039afb4144a1f6fd8d2ca17a180786b69acc140d282b71a49"
  },
  "kernelspec": {
   "display_name": "Python 3.9.9 64-bit",
   "language": "python",
   "name": "python3"
  },
  "language_info": {
   "codemirror_mode": {
    "name": "ipython",
    "version": 3
   },
   "file_extension": ".py",
   "mimetype": "text/x-python",
   "name": "python",
   "nbconvert_exporter": "python",
   "pygments_lexer": "ipython3",
   "version": "3.9.9"
  },
  "orig_nbformat": 4
 },
 "nbformat": 4,
 "nbformat_minor": 2
}
