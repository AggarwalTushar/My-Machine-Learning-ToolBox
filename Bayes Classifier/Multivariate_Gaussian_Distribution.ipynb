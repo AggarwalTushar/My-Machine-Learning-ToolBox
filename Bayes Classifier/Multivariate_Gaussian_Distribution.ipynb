{
 "cells": [
  {
   "cell_type": "markdown",
   "metadata": {
    "id": "vbTEWfoR1h2J"
   },
   "source": [
    "## Importing the required libraries"
   ]
  },
  {
   "cell_type": "code",
   "execution_count": 1,
   "metadata": {
    "id": "mIP86j-91h2O"
   },
   "outputs": [],
   "source": [
    "import numpy as np\n",
    "import matplotlib.pyplot as plt\n",
    "import pandas as pd\n",
    "from sklearn.metrics import confusion_matrix\n",
    "from scipy.stats import multivariate_normal\n",
    "from sklearn.preprocessing import StandardScaler\n",
    "import seaborn as sns\n",
    "from keras.datasets import mnist"
   ]
  },
  {
   "cell_type": "markdown",
   "metadata": {
    "id": "mdAgHrPC1h2a"
   },
   "source": [
    "## Importing the Dataset\n",
    "\n",
    "We have imported the MNIST dataset from keras module. The training dataset consists of 60,000 images (that are in the form of 28x28 pixels) and the testing dataset consists of 10,000 images. We then flatten the images such that each image is of the form of a 784 pixel row vector. We then normalise the data using Standard Scaler() function."
   ]
  },
  {
   "cell_type": "code",
   "execution_count": 2,
   "metadata": {
    "colab": {
     "base_uri": "https://localhost:8080/"
    },
    "id": "fubOWA3K1h2a",
    "outputId": "74bdfb79-a175-4916-be03-b43fca53a7be"
   },
   "outputs": [
    {
     "name": "stdout",
     "output_type": "stream",
     "text": [
      "Downloading data from https://storage.googleapis.com/tensorflow/tf-keras-datasets/mnist.npz\n",
      "11493376/11490434 [==============================] - 0s 0us/step\n",
      "11501568/11490434 [==============================] - 0s 0us/step\n",
      "The shape of the training data is: (60000, 28, 28)\n",
      "The shape of the testing data is: (10000, 28, 28)\n"
     ]
    }
   ],
   "source": [
    "#Reading the data from CSV file\n",
    "(X, Y), (X_test, Y_test) = mnist.load_data()\n",
    "print(\"The shape of the training data is: {}\".format(X.shape))\n",
    "print(\"The shape of the testing data is: {}\".format(X_test.shape))"
   ]
  },
  {
   "cell_type": "code",
   "execution_count": 3,
   "metadata": {
    "id": "daakG1cS1zqa"
   },
   "outputs": [],
   "source": [
    "# flattening the image into row vector\n",
    "X = X.reshape((X.shape[0],X.shape[1]*X.shape[2]))\n",
    "X_test = X_test.reshape((X_test.shape[0], X_test.shape[1]*X_test.shape[2]))\n",
    "sc = StandardScaler()\n",
    "X = sc.fit_transform(X)\n",
    "X_test = sc.transform(X_test)"
   ]
  },
  {
   "cell_type": "code",
   "execution_count": 5,
   "metadata": {
    "colab": {
     "base_uri": "https://localhost:8080/"
    },
    "id": "d1fy_5Kr1h2b",
    "outputId": "8f0b79b8-fcd9-4c64-8069-3332aacbee0d"
   },
   "outputs": [
    {
     "name": "stdout",
     "output_type": "stream",
     "text": [
      "=== TOTAL NUMBER OF CLASSES IN WHICH EACH IMAGE CAN BE DIVIDED INTO: 10 ===\n"
     ]
    }
   ],
   "source": [
    "total_classes = len(np.unique(Y))\n",
    "print(\"=== TOTAL NUMBER OF CLASSES IN WHICH EACH IMAGE CAN BE DIVIDED INTO: {} ===\".format(10))"
   ]
  },
  {
   "cell_type": "markdown",
   "metadata": {
    "id": "chk_R9k21h2c"
   },
   "source": [
    "## Training the Bayes Classifier on the training dataset\n",
    "\n",
    "First, for every class (ranging from [1, K]), we compute the following values:\n",
    "\n",
    "$$ \\pi_k = \\text{prior probability for every class k} $$\n",
    "$$ \\mu_{kd} = \\text{Mean of every pixel d for every class k} $$\n",
    "$$ \\sum_k = \\text{Covariance Matrix of every class k with dimensions = }dxd $$\n",
    "\n",
    "where,\n",
    "$$ d \\in [1, 784] $$\n",
    "$$ k \\in [0, 9] $$"
   ]
  },
  {
   "cell_type": "code",
   "execution_count": 6,
   "metadata": {
    "id": "0oNOuEOT1h2c"
   },
   "outputs": [],
   "source": [
    "def fit(X, Y):\n",
    "    n_samples, n_features = X.shape\n",
    "    classes = np.unique(Y)\n",
    "    n_classes = len(classes)\n",
    "\n",
    "    # calculating mean, var, and prior for each class ranging from [0, 9]\n",
    "    # for every class, calculating the mean for each pixel (ranging from [1, 784]) that belong to that class\n",
    "    mean = np.zeros((n_classes, n_features), dtype = np.float128)\n",
    "    # for every class, calculating a covariance matrix (dimension = 784x784)\n",
    "    variance = np.zeros((n_classes, n_features, n_features), dtype = np.float128)\n",
    "    # for every class, calculating the probability that an image belongs to that class\n",
    "    prior_probability = np.zeros(n_classes, dtype = np.float128)\n",
    "    \n",
    "    for class_no in range(0, n_classes):\n",
    "        X_class_c = X[Y == class_no]\n",
    "        mean[class_no, :] = X_class_c.mean(axis=0)\n",
    "        variance[class_no, :] = np.cov(X_class_c.T)\n",
    "        prior_probability[class_no] = X_class_c.shape[0] / n_samples\n",
    "\n",
    "    return classes, mean, variance, prior_probability\n",
    "\n",
    "classes, mean, variance, prior_probability = fit(X,Y)"
   ]
  },
  {
   "cell_type": "markdown",
   "metadata": {
    "id": "A4TKWSEc1h2d"
   },
   "source": [
    "## Predicting the results on the test dataset\n",
    "\n",
    "We feed in the entire testing dataset (dimensions = Nx784) to the **predict_class()** function. We store the posterior in a matrix of dimension KxN where each row corresponds to a particular class and each column corresponds to an image in the testing data.\n",
    "\n",
    "The posterior that an image belongs to a particular class is as follows:\n",
    "\n",
    "$$ P(class = k | X) = \\frac{ \\pi_k * P(X | class = k)}{P(X)} $$\n",
    "\n",
    "As the class conditional densities are a Multivariate Gaussian distribution, hence, they can be written as:\n",
    "\n",
    "$$ P(X | class = k) = \\frac{e^{\\frac{-1}{2}(X-\\mu)*\\sum^{-1}*(X-\\mu)^T}}{{2\\pi}^{D/2}|\\sum|^{1/2}} $$\n",
    "\n",
    "In order to simplify the calculation, we have not considered the denominator in the above term (as it remains the same for every case). Thus the formula now becomes:\n",
    "\n",
    "$$ P(class = k | X) \\propto \\pi_k * P(X | class = k) $$\n",
    "\n",
    "Thus, for an image $X_i$, the final predicted class can be found out as follows:\n",
    "\n",
    "$$ \\text{predicted class} = \\underset{a}{\\operatorname{\\arg max}} (\\pi_k * P(X_i | class = k)) $$\n",
    "\n",
    "In order to simplify the calculation, we take the $\\log$ of the above expression which results in the following:\n",
    "\n",
    "$$ \\text{predicted class} = \\underset{a}{\\operatorname{\\arg max}} (\\log(\\pi_k) + \\log(P(X | class = k))) $$\n",
    "\n",
    "There were some cases where the Covariance Matrix comes out to be a singular matrix. In those situations, we added some noise to the diagonal of the Covariance Matrix such that it does not remain singular anymore."
   ]
  },
  {
   "cell_type": "code",
   "execution_count": 10,
   "metadata": {
    "id": "zkJdNUz21h2e"
   },
   "outputs": [],
   "source": [
    "#Function to calculate the weight (log likelihood) of current class given the point is x\n",
    "def predict_class(images):\n",
    "    \n",
    "    total_images = images.shape[0]\n",
    "    posterior_each_class = np.zeros((total_classes, total_images), dtype = np.longfloat)\n",
    "    \n",
    "    for class_no in range(0, total_classes):\n",
    "        # computing the predicted class using argmax(c) over log likelihood of (P(x|c)*P(c)) \n",
    "        mean_curr_class = mean[class_no]\n",
    "        cov_matrix_curr_class = variance[class_no]\n",
    "        prior_curr_class = prior_probability[class_no]\n",
    "        # storing the predicted probability for all images for a particular class\n",
    "        posterior_curr_class = multivariate_normal.logpdf(images, mean = mean_curr_class, cov = cov_matrix_curr_class+1e-2*np.eye(cov_matrix_curr_class.shape[0])) + np.log(prior_curr_class)\n",
    "        posterior_each_class[class_no] = posterior_curr_class\n",
    "    \n",
    "    \n",
    "    posterior_per_image_per_class = posterior_each_class.T\n",
    "    predicted_classes = []\n",
    "    for image_no in range(0, total_images):\n",
    "        max_prob_class = np.argmax(posterior_per_image_per_class[image_no])\n",
    "        predicted_classes.append(max_prob_class)\n",
    "\n",
    "    return predicted_classes"
   ]
  },
  {
   "cell_type": "code",
   "execution_count": 11,
   "metadata": {
    "colab": {
     "base_uri": "https://localhost:8080/"
    },
    "id": "mMD_tB3W1h2e",
    "outputId": "13015174-850b-4b53-c731-d4ae7fb2cdd3"
   },
   "outputs": [
    {
     "name": "stdout",
     "output_type": "stream",
     "text": [
      "=== ACCURACY OF THE MODEL: 81.53 ===\n"
     ]
    }
   ],
   "source": [
    "predicted_labels = predict_class(X_test)\n",
    "true_labels = Y_test\n",
    "\n",
    "count_correct_prediction = 0.0\n",
    "for i in range(len(predicted_labels)):\n",
    "    if predicted_labels[i] == true_labels[i]:\n",
    "        count_correct_prediction += 1.0\n",
    "\n",
    "accuracy = count_correct_prediction/(len(predicted_labels)*1.0)\n",
    "print(\"=== ACCURACY OF THE MODEL: {} ===\".format(accuracy*100))"
   ]
  },
  {
   "cell_type": "code",
   "execution_count": 12,
   "metadata": {
    "colab": {
     "base_uri": "https://localhost:8080/"
    },
    "id": "DukgNPrE1h3H",
    "outputId": "6aeab5f8-6fd1-4b5a-9059-c1252ed8d57d"
   },
   "outputs": [
    {
     "name": "stdout",
     "output_type": "stream",
     "text": [
      "[[ 936    0    5   11    1    6    5    1   15    0]\n",
      " [   1 1098    7    5    1    0    6    0   16    1]\n",
      " [  39    4  781   49    8    1   15    2  130    3]\n",
      " [  27    2    8  721    2   10    0    5  216   19]\n",
      " [   4    3   18    4  791    2    5    5   29  121]\n",
      " [  28    0    3   36    2  560   13    3  234   13]\n",
      " [  17    3    4    1    4   12  885    0   32    0]\n",
      " [   1    6   11   11   26    0    0  573   31  369]\n",
      " [  17   16   10   13    3   14    4    6  878   13]\n",
      " [   9    6    4    8   10    0    0   16   26  930]]\n"
     ]
    }
   ],
   "source": [
    "confusionMatrix = confusion_matrix(true_labels, predicted_labels)\n",
    "print(confusionMatrix)"
   ]
  },
  {
   "cell_type": "code",
   "execution_count": 13,
   "metadata": {
    "colab": {
     "base_uri": "https://localhost:8080/",
     "height": 1000
    },
    "id": "cLsPLgnI1h3H",
    "outputId": "29a72480-9532-4ace-8c9b-d534f1b74129"
   },
   "outputs": [
    {
     "data": {
      "text/plain": [
       "Text(0.5, 1.0, 'Confusion Matrix')"
      ]
     },
     "execution_count": 13,
     "metadata": {},
     "output_type": "execute_result"
    },
    {
     "data": {
      "image/png": "[encoded data removed]",
      "text/plain": [
       "<Figure size 1872x1872 with 2 Axes>"
      ]
     },
     "metadata": {
      "needs_background": "light"
     },
     "output_type": "display_data"
    }
   ],
   "source": [
    "ax = plt.subplots(figsize=(26,26))\n",
    "ax = sns.heatmap(confusionMatrix, annot=True, fmt='g');  \n",
    "ax.set_xlabel('Predicted labels')\n",
    "ax.set_ylabel('True labels')\n",
    "ax.set_title('Confusion Matrix')"
   ]
  },
  {
   "cell_type": "code",
   "execution_count": null,
   "metadata": {
    "id": "dzHuwaEt1h3I"
   },
   "outputs": [],
   "source": []
  }
 ],
 "metadata": {
  "colab": {
   "name": "part3_q1a.ipynb",
   "provenance": []
  },
  "kernelspec": {
   "display_name": "Python 3",
   "language": "python",
   "name": "python3"
  },
  "language_info": {
   "codemirror_mode": {
    "name": "ipython",
    "version": 3
   },
   "file_extension": ".py",
   "mimetype": "text/x-python",
   "name": "python",
   "nbconvert_exporter": "python",
   "pygments_lexer": "ipython3",
   "version": "3.8.5"
  }
 },
 "nbformat": 4,
 "nbformat_minor": 1
}
