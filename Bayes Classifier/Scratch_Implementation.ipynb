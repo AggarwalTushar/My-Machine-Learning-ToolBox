{
 "cells": [
  {
   "cell_type": "markdown",
   "metadata": {},
   "source": [
    "## Importing Libraries"
   ]
  },
  {
   "cell_type": "code",
   "execution_count": 1,
   "metadata": {},
   "outputs": [],
   "source": [
    "import numpy as np\n",
    "import matplotlib.pyplot as plt\n",
    "import pandas as pd\n",
    "from sklearn.model_selection import train_test_split\n",
    "from sklearn.naive_bayes import GaussianNB\n",
    "from sklearn.metrics import confusion_matrix"
   ]
  },
  {
   "cell_type": "markdown",
   "metadata": {},
   "source": [
    "## Importing the Dataset"
   ]
  },
  {
   "cell_type": "code",
   "execution_count": 2,
   "metadata": {},
   "outputs": [],
   "source": [
    "#Reading the data from CSV file\n",
    "data=pd.read_csv('A_Z Handwritten Data.csv')\n",
    "\n",
    "#Generating the features\n",
    "X=data.iloc[:,1:].values\n",
    "\n",
    "#Generating the output values\n",
    "Y=data.iloc[:,0].values"
   ]
  },
  {
   "cell_type": "markdown",
   "metadata": {},
   "source": [
    "## Scaling the Dataset"
   ]
  },
  {
   "cell_type": "code",
   "execution_count": 3,
   "metadata": {},
   "outputs": [],
   "source": [
    "#Converting the values into 0-1 with threshold 128\n",
    "X=X//128"
   ]
  },
  {
   "cell_type": "markdown",
   "metadata": {},
   "source": [
    "## Splitting the data into train and test"
   ]
  },
  {
   "cell_type": "code",
   "execution_count": 4,
   "metadata": {},
   "outputs": [],
   "source": [
    "#Splitting the data into 80% training and 20% test sets\n",
    "X_train, X_test, Y_train, Y_test = train_test_split(X, Y, test_size = 0.2,random_state=0)"
   ]
  },
  {
   "cell_type": "markdown",
   "metadata": {},
   "source": [
    "## Training the Naive Bayes model on the Training set"
   ]
  },
  {
   "cell_type": "code",
   "execution_count": 5,
   "metadata": {},
   "outputs": [],
   "source": [
    "#Creating a dictionary to store the training data information which will be helpful in reducing the time complexity for predicting new values\n",
    "info = {}\n",
    "\n",
    "#Storing the size of training data\n",
    "info[\"total_data\"] = len(Y_train)\n",
    "\n",
    "#List of values which the output can take\n",
    "class_values = list(range(1,27))\n",
    "\n",
    "#Running a loop over each class\n",
    "for current_class in class_values:\n",
    "    \n",
    "    #Creating a nested dictionary to store current class information\n",
    "    info[current_class] = {}\n",
    "    \n",
    "    #Taking those indices for which output is current class\n",
    "    current_indexes = (Y_train == current_class)\n",
    "    \n",
    "    #Taking those points for which output is current class\n",
    "    X_train_current = X_train[current_indexes]\n",
    "    \n",
    "    #Calculating the number of features\n",
    "    num_features = X_train.shape[1]\n",
    "    \n",
    "    #Storing the size of data for which output is current class\n",
    "    info[current_class][\"total_count\"] = np.sum(current_indexes)\n",
    "    \n",
    "    #Running a loop over each feature\n",
    "    for j in range(1, num_features + 1):\n",
    "        \n",
    "        #Creating a nested dictionary to store the information of each feature for current class\n",
    "        info[current_class][j] = {}\n",
    "        \n",
    "        #Running a loop over binary values 0 and 1 which each feature can take\n",
    "        for i in range(0,2):\n",
    "            \n",
    "            #Storing the count of points where output is current class(current_class) and feature is the current feature(j) and its value is current value(i)\n",
    "            info[current_class][j][i] = np.sum((X_train_current[:, j - 1] == i))"
   ]
  },
  {
   "cell_type": "markdown",
   "metadata": {},
   "source": [
    "## Predicting the test set results"
   ]
  },
  {
   "cell_type": "code",
   "execution_count": 7,
   "metadata": {},
   "outputs": [
    {
     "name": "stdout",
     "output_type": "stream",
     "text": [
      "Accuracy: 68.39173043361525\n"
     ]
    }
   ],
   "source": [
    "#Function to calculate the weight of current class given the point is x\n",
    "def getWeight(x, current_class):\n",
    "    \n",
    "    #Variable to store the final value\n",
    "    output = (info[current_class][\"total_count\"])/(info[\"total_data\"])\n",
    "    num_features = len(info[current_class].keys()) - 1\n",
    "    \n",
    "    #Running a loop over the features\n",
    "    for j in range(1, num_features + 1):\n",
    "        xj = x[j - 1]\n",
    "        \n",
    "        #Applying the laplace-smoothening\n",
    "        count = info[current_class][j][xj] + 1\n",
    "        count_current_class = info[current_class][\"total_count\"] + 2\n",
    "        \n",
    "        #Multiplying the output by the probability of feature j being xj and class being current_class\n",
    "        output *= (count/count_current_class)\n",
    "        \n",
    "    #Returning the output\n",
    "    return output\n",
    "\n",
    "#Function to predict the value of a single point x\n",
    "def predict(x):\n",
    "    classes = info.keys()\n",
    "    best_p = -1\n",
    "    best_class = -1\n",
    "    \n",
    "    #Running a loop over each class\n",
    "    for current_class in classes:\n",
    "        if (current_class == \"total_data\"):\n",
    "            continue\n",
    "        \n",
    "        #Calculating the weight of current class given the input is x\n",
    "        p_current_class = getWeight(x, current_class)\n",
    "        \n",
    "        #Checking if current value is better than the best seen till now\n",
    "        if (p_current_class > best_p):\n",
    "            best_p = p_current_class\n",
    "            best_class = current_class\n",
    "    return best_class\n",
    "Y_pred=[]\n",
    "\n",
    "#Predicting the output of test data\n",
    "for i in X_test:\n",
    "    Y_pred.append(predict(i))\n",
    "\n",
    "#Calculating the number of correct values predicted\n",
    "correct=np.sum(Y_pred==Y_test)\n",
    "\n",
    "#Printing the accuracy\n",
    "print(\"Accuracy: \"+str((correct)*100/len(Y_test)))"
   ]
  },
  {
   "cell_type": "markdown",
   "metadata": {},
   "source": [
    "## Generating the Confusion Matrix"
   ]
  },
  {
   "cell_type": "code",
   "execution_count": 8,
   "metadata": {},
   "outputs": [
    {
     "data": {
      "text/plain": [
       "array([[1315,   11,   46,   32,    0,   12,   57,    0,   32,    2,    5,\n",
       "          19,   24,   41,   16,   12,   26,   35,    0,    2,    0,    5,\n",
       "           2,   24,   39,    0],\n",
       "       [  79, 3334,   12,  154,   16,   57,   11,    2,   34,   67,  207,\n",
       "          33,   42,  255,   81,   43,   12,    1,   33,   63,    0,  179,\n",
       "           1,   14,    6,    0],\n",
       "       [  90,    6, 1377,    0,    0,    4,    1,    1,   98,    0,   11,\n",
       "          21,   24,  219,   35,   24,    3,   11,    1,   31,    0,   28,\n",
       "           1,   10,   26,    0],\n",
       "       [ 148,   67,    4, 1362,   37,   56,    2,    8,    4,  134,   95,\n",
       "          23,   31,   12,   46,    2,   98,   38,   13,   17,    0,   13,\n",
       "          10,   15,   28,    0],\n",
       "       [   0,    0,    0,    5,  201,    0,    0,    0,    0,    1,    0,\n",
       "           0,    0,    0,   15,    0,    1,    0,    1,    1,    0,    0,\n",
       "           0,    1,    0,    0],\n",
       "       [  25,   18,    2,   27,    1,  854,    8,    0,   17,    3,    6,\n",
       "           9,   20,   25,    6,   74,   14,   35,    0,   15,    2,   15,\n",
       "           1,    0,    4,    0],\n",
       "       [  30,    0,    0,    7,    0,    2,  828,    0,    3,   13,    1,\n",
       "          56,  220,    0,   28,    0,   40,    0,    0,   47,    4,   46,\n",
       "          31,   66,    0,    0],\n",
       "       [   0,    0,    0,    0,    0,    0,    0,  210,    7,    0,    2,\n",
       "           0,    0,    0,    2,    0,    0,    3,   10,    0,    0,    0,\n",
       "           2,    0,    1,    0],\n",
       "       [  31,    3,   67,    4,    0,    0,    3,  120, 1030,    5,    1,\n",
       "          16,    0,    6,    0,    2,    0,   34,  227,   80,    4,   24,\n",
       "           3,   55,   15,    0],\n",
       "       [   7,    8,    0,   10,    0,    0,   33,    2,    0,  732,   29,\n",
       "          21,   21,    1,   20,    2,   73,    0,    9,    0,    6,   16,\n",
       "          58,   35,    1,    0],\n",
       "       [   0,   44,   11,    4,    0,    2,    1,   83,   12,   18, 1641,\n",
       "           0,   26,    4,    0,    0,    6,    0,    5,   72,    4,   37,\n",
       "          36,  138,  158,    0],\n",
       "       [   6,    0,    0,    0,    1,    0,   49,    0,    0,    8,    0,\n",
       "        2185,  119,    5,    3,    7,   35,    0,    1,   13,    0,   14,\n",
       "           0,    3,    0,    0],\n",
       "       [  11,    2,   36,    3,    0,    0,  379,    0,    5,   40,    0,\n",
       "         217, 2502,   16,   18,    7,   71,    0,    2,  117,   36,  331,\n",
       "          37,   43,    1,    0],\n",
       "       [ 339,  408,  716,   37,    1,  163,   43,    2,   28,    0,    2,\n",
       "         125,  248, 9057,   73,  149,   80,   54,    1,  100,    1,   13,\n",
       "           3,   28,   12,    0],\n",
       "       [   2,    0,   51,    5,  179,    0,   37,    0,   41,    5,    0,\n",
       "          17,   68,    6, 2918,   57,   73,    1,  131,    7,    0,    3,\n",
       "           8,  274,    0,    0],\n",
       "       [   4,    3,   28,    1,    0,   99,    9,    0,   14,    3,    2,\n",
       "           4,    7,   74,   26,  867,   67,    1,    0,   27,    0,    6,\n",
       "           0,    3,    0,    0],\n",
       "       [  50,   13,    1,   83,    3,    3,   58,    2,    3,  280,   22,\n",
       "          45,   97,    1,   79,   56, 1338,    0,    6,    7,    0,   10,\n",
       "          90,   28,   46,    0],\n",
       "       [ 478,   36,   99,  148,    3,  263,    9,  111,  863,   41,   27,\n",
       "          16,   44,  162,   27,   74,   44, 6750,   93,   22,    1,   42,\n",
       "          70,   81,   12,    0],\n",
       "       [   0,    1,    1,    4,  133,    0,    4,  377,  228,   70,    0,\n",
       "          74,    1,    0,  133,    2,    3,    6, 3162,    0,    0,    1,\n",
       "          10,  206,    9,    0],\n",
       "       [  49,   10,  174,   17,    0,   11,  195,    0,   54,   60,   15,\n",
       "          82,  306,  224,   26,   32,   79,    0,    2, 3752,   34,  578,\n",
       "          17,   73,    6,    0],\n",
       "       [   0,    0,    0,    0,    8,    0,    4,    0,    0,   20,    0,\n",
       "           0,   56,    0,    2,    0,    1,    0,    1,    4,  690,   55,\n",
       "           0,    2,    0,    0],\n",
       "       [   1,    0,   11,    1,    0,    3,   46,    0,    2,    7,    4,\n",
       "          39,  191,    0,    2,    2,    6,    0,    0,   81,   67, 1655,\n",
       "           8,    9,    0,    0],\n",
       "       [   5,    0,    0,    2,    0,    0,   17,    3,    5,   83,    5,\n",
       "           5,    1,    0,    7,    0,   22,    3,    6,    2,   22,    1,\n",
       "         857,  184,   11,    0],\n",
       "       [  14,    0,    0,    0,    2,    0,   56,    2,  114,   47,    0,\n",
       "           5,    2,    1,   55,    0,    1,    3,   83,    2,   66,    5,\n",
       "         131, 1541,    0,    0],\n",
       "       [  56,    1,    5,    7,    0,    1,    2,   63,   52,   47,   83,\n",
       "          10,   19,    0,   10,    4,   16,    3,   14,    3,    0,   13,\n",
       "          43,   11,  787,    0],\n",
       "       [ 208,    0,   13,   10,    0,   55, 1059,    0,   19,   22,    1,\n",
       "         145,  280,   15,   53,   43,  448,    0,    0,   10,    3,   43,\n",
       "         230,   73,    9,    0]])"
      ]
     },
     "execution_count": 8,
     "metadata": {},
     "output_type": "execute_result"
    }
   ],
   "source": [
    "#A confusion matrix is a technique for summarizing the performance of a classification algorithm.\n",
    "cm=np.zeros((26,26),dtype=int)\n",
    "\n",
    "for i in range(len(Y_test)):\n",
    "    true_value=Y_test[i]\n",
    "    pred_value=Y_pred[i]\n",
    "    cm[true_value-1][pred_value-1]+=1\n",
    "cm"
   ]
  },
  {
   "cell_type": "code",
   "execution_count": null,
   "metadata": {},
   "outputs": [],
   "source": []
  }
 ],
 "metadata": {
  "kernelspec": {
   "display_name": "Python 3",
   "language": "python",
   "name": "python3"
  },
  "language_info": {
   "codemirror_mode": {
    "name": "ipython",
    "version": 3
   },
   "file_extension": ".py",
   "mimetype": "text/x-python",
   "name": "python",
   "nbconvert_exporter": "python",
   "pygments_lexer": "ipython3",
   "version": "3.8.5"
  }
 },
 "nbformat": 4,
 "nbformat_minor": 4
}
