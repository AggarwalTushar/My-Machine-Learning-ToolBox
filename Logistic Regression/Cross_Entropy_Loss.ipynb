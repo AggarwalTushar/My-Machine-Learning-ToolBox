{
 "cells": [
  {
   "cell_type": "markdown",
   "metadata": {},
   "source": [
    "### Importing the required libraries"
   ]
  },
  {
   "cell_type": "code",
   "execution_count": 1,
   "metadata": {},
   "outputs": [],
   "source": [
    "from sklearn.datasets import make_blobs\n",
    "import numpy as np\n",
    "import matplotlib.pyplot as plt\n",
    "import pandas as pd\n",
    "import math\n",
    "import random"
   ]
  },
  {
   "cell_type": "markdown",
   "metadata": {},
   "source": [
    "### Making the dataset\n",
    "\n",
    "We are using the make_blobs function from sklearn to make a dataset of 100 points having two classes x1 and x2\n"
   ]
  },
  {
   "cell_type": "code",
   "execution_count": 2,
   "metadata": {},
   "outputs": [
    {
     "data": {
      "text/html": [
       "<div>\n",
       "<style scoped>\n",
       "    .dataframe tbody tr th:only-of-type {\n",
       "        vertical-align: middle;\n",
       "    }\n",
       "\n",
       "    .dataframe tbody tr th {\n",
       "        vertical-align: top;\n",
       "    }\n",
       "\n",
       "    .dataframe thead th {\n",
       "        text-align: right;\n",
       "    }\n",
       "</style>\n",
       "<table border=\"1\" class=\"dataframe\">\n",
       "  <thead>\n",
       "    <tr style=\"text-align: right;\">\n",
       "      <th></th>\n",
       "      <th>x1</th>\n",
       "      <th>x2</th>\n",
       "    </tr>\n",
       "  </thead>\n",
       "  <tbody>\n",
       "    <tr>\n",
       "      <th>0</th>\n",
       "      <td>10.073436</td>\n",
       "      <td>0.477208</td>\n",
       "    </tr>\n",
       "    <tr>\n",
       "      <th>1</th>\n",
       "      <td>-9.442804</td>\n",
       "      <td>4.313472</td>\n",
       "    </tr>\n",
       "    <tr>\n",
       "      <th>2</th>\n",
       "      <td>-8.620219</td>\n",
       "      <td>5.292283</td>\n",
       "    </tr>\n",
       "    <tr>\n",
       "      <th>3</th>\n",
       "      <td>9.206756</td>\n",
       "      <td>-0.385205</td>\n",
       "    </tr>\n",
       "    <tr>\n",
       "      <th>4</th>\n",
       "      <td>9.115195</td>\n",
       "      <td>0.677334</td>\n",
       "    </tr>\n",
       "  </tbody>\n",
       "</table>\n",
       "</div>"
      ],
      "text/plain": [
       "          x1        x2\n",
       "0  10.073436  0.477208\n",
       "1  -9.442804  4.313472\n",
       "2  -8.620219  5.292283\n",
       "3   9.206756 -0.385205\n",
       "4   9.115195  0.677334"
      ]
     },
     "execution_count": 2,
     "metadata": {},
     "output_type": "execute_result"
    }
   ],
   "source": [
    "X, Y = make_blobs(n_samples=100, centers=2, n_features=2)\n",
    "X = pd.DataFrame(X)\n",
    "X.columns = ['x1', 'x2']\n",
    "X.head()\n"
   ]
  },
  {
   "cell_type": "markdown",
   "metadata": {},
   "source": [
    "Scatter plotting the generated dataset"
   ]
  },
  {
   "cell_type": "code",
   "execution_count": 3,
   "metadata": {},
   "outputs": [
    {
     "data": {
      "image/png": "[encoded data removed]",
      "text/plain": [
       "<Figure size 432x288 with 1 Axes>"
      ]
     },
     "metadata": {
      "needs_background": "light"
     },
     "output_type": "display_data"
    }
   ],
   "source": [
    "#plot x1 and x2\n",
    "plt.scatter(X.x1, X.x2, c=Y)\n",
    "plt.show()"
   ]
  },
  {
   "cell_type": "markdown",
   "metadata": {},
   "source": [
    "Defining the sigmoid function \n",
    "\n",
    "$$ \\sigma(z) = \\frac{1} {1 + e^{-z}}$$"
   ]
  },
  {
   "cell_type": "code",
   "execution_count": 4,
   "metadata": {},
   "outputs": [],
   "source": [
    "#sigmoid function\n",
    "def sigmoid(z):\n",
    "    return 1 / (1 + np.exp(-z))"
   ]
  },
  {
   "cell_type": "code",
   "execution_count": 5,
   "metadata": {},
   "outputs": [
    {
     "data": {
      "image/png": "[encoded data removed]",
      "text/plain": [
       "<Figure size 432x288 with 1 Axes>"
      ]
     },
     "metadata": {
      "needs_background": "light"
     },
     "output_type": "display_data"
    }
   ],
   "source": [
    "#plot the logistic function\n",
    "x = np.linspace(-10, 10, 100)\n",
    "y = sigmoid(x)\n",
    "plt.plot(x, y)\n",
    "plt.show()"
   ]
  },
  {
   "cell_type": "markdown",
   "metadata": {},
   "source": [
    "### Logistic regression using cross entropy\n",
    "\n",
    "We have chosen the initial value of $\\theta$ to be random and a bias of 0. The learning rate ($\\alpha$) is set to a small value of 0.001 and epochs value of 1000. For our logistic model, we define the hypothesis as following:\n",
    "\n",
    "$$ h(x) = \\sigma(\\theta^TX+b) $$\n",
    "\n",
    "We are using the cross entropy loss function for our gradient descent that is defined as follows:\n",
    "\n",
    "$$ L = - {(y\\log(h) + (1 - y)\\log(1 - h))} $$\n",
    "\n",
    "Then after each iteration of gradient descent we are updating theta follows:\n",
    "\n",
    "$$ d\\theta = \\frac{1}{m}(h-y).X $$\n",
    "$$ \\theta = \\theta - \\alpha. d\\theta^T $$\n",
    "\n",
    "And updating the bias as follows:\n",
    "\n",
    "$$ db = \\frac{1}{m}(h - y)$$\n",
    "$$ b = b - \\alpha. db$$\n"
   ]
  },
  {
   "cell_type": "code",
   "execution_count": 6,
   "metadata": {},
   "outputs": [],
   "source": [
    "def logistic_regression(X, y, learning_rate=0.001, epochs=1000):\n",
    "    #initialize theta\n",
    "    theta = np.random.randn(X.shape[1])\n",
    "    m = len(y)\n",
    "    bias=0\n",
    "    costArr = []\n",
    "    iters = 0\n",
    "    while iters < epochs:\n",
    "        h = sigmoid((np.dot(X, theta)+bias))\n",
    "        #cross entropy loss function\n",
    "        cost = (-1 / m) * np.sum(y * np.log(h) + (1 - y) * np.log(1 - h))\n",
    "        costArr.append(cost)\n",
    "        dw = (1 / m) * np.dot( h - y, X)\n",
    "        db = (1 / m) * np.sum(h - y)\n",
    "        theta = theta - learning_rate * dw.T\n",
    "        bias = bias - learning_rate * db\n",
    "        iters += 1\n",
    "        if iters%100==0:\n",
    "            print(\"Iteration: \", iters, \" Cost: \", cost)\n",
    "    return theta, costArr, bias"
   ]
  },
  {
   "cell_type": "markdown",
   "metadata": {},
   "source": [
    "### Plotting the loss function \n",
    "\n",
    "The plot below shows the loss after every 100 iterations through the dataset"
   ]
  },
  {
   "cell_type": "code",
   "execution_count": 7,
   "metadata": {},
   "outputs": [
    {
     "name": "stdout",
     "output_type": "stream",
     "text": [
      "Iteration:  100  Cost:  0.7499203240980415\n",
      "Iteration:  200  Cost:  0.20861545824455177\n",
      "Iteration:  300  Cost:  0.09684010226565849\n",
      "Iteration:  400  Cost:  0.05922526190061917\n",
      "Iteration:  500  Cost:  0.04174510281257764\n",
      "Iteration:  600  Cost:  0.031937307642027075\n",
      "Iteration:  700  Cost:  0.025743831031176716\n",
      "Iteration:  800  Cost:  0.021508083102774522\n",
      "Iteration:  900  Cost:  0.01844139495542797\n",
      "Iteration:  1000  Cost:  0.01612459410557511\n"
     ]
    }
   ],
   "source": [
    "random.seed(1)\n",
    "theta, costArr, bias = logistic_regression(X, Y)"
   ]
  },
  {
   "cell_type": "code",
   "execution_count": 8,
   "metadata": {},
   "outputs": [
    {
     "data": {
      "image/png": "[encoded data removed]",
      "text/plain": [
       "<Figure size 432x288 with 1 Axes>"
      ]
     },
     "metadata": {
      "needs_background": "light"
     },
     "output_type": "display_data"
    }
   ],
   "source": [
    "#plotting the cost array\n",
    "plt.plot(costArr)\n",
    "plt.show()"
   ]
  },
  {
   "cell_type": "markdown",
   "metadata": {},
   "source": [
    "### Plotting the Predictions\n",
    "\n",
    "The plot below visualizes the learnt prediction on the scatter plot of the input training dataset and the line showing the classification of data."
   ]
  },
  {
   "cell_type": "code",
   "execution_count": 9,
   "metadata": {},
   "outputs": [
    {
     "data": {
      "image/png": "[encoded data removed]",
      "text/plain": [
       "<Figure size 432x288 with 1 Axes>"
      ]
     },
     "metadata": {
      "needs_background": "light"
     },
     "output_type": "display_data"
    }
   ],
   "source": [
    "plt.scatter(X.x1, X.x2, c=Y)\n",
    "plt.plot(X.x1, -(theta[0]*X.x1+bias)/theta[1], 'b')\n",
    "plt.show()\n"
   ]
  },
  {
   "cell_type": "code",
   "execution_count": 10,
   "metadata": {},
   "outputs": [],
   "source": [
    "def predict(X, theta):\n",
    "    if sigmoid(np.dot(X, theta)) > 0.5:\n",
    "        return 1 \n",
    "    else:\n",
    "        return 0"
   ]
  }
 ],
 "metadata": {
  "interpreter": {
   "hash": "026007a54b015722dc632dde4328286653e652b9b042a307d4f8e87cf8c8db30"
  },
  "kernelspec": {
   "display_name": "Python 3",
   "language": "python",
   "name": "python3"
  },
  "language_info": {
   "codemirror_mode": {
    "name": "ipython",
    "version": 3
   },
   "file_extension": ".py",
   "mimetype": "text/x-python",
   "name": "python",
   "nbconvert_exporter": "python",
   "pygments_lexer": "ipython3",
   "version": "3.8.5"
  }
 },
 "nbformat": 4,
 "nbformat_minor": 2
}
