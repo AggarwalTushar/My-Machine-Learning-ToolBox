{
 "cells": [
  {
   "cell_type": "markdown",
   "metadata": {},
   "source": [
    "### Importing the required libraries"
   ]
  },
  {
   "cell_type": "code",
   "execution_count": 1,
   "metadata": {},
   "outputs": [],
   "source": [
    "from sklearn.datasets import make_blobs\n",
    "import numpy as np\n",
    "import matplotlib.pyplot as plt\n",
    "import pandas as pd\n",
    "import math\n",
    "import random"
   ]
  },
  {
   "cell_type": "markdown",
   "metadata": {},
   "source": [
    "### Making the dataset\n",
    "\n",
    "We are using the make_blobs function from sklearn to make a dataset of 100 points having two classes x1 and x2\n"
   ]
  },
  {
   "cell_type": "code",
   "execution_count": 2,
   "metadata": {},
   "outputs": [
    {
     "data": {
      "text/html": [
       "<div>\n",
       "<style scoped>\n",
       "    .dataframe tbody tr th:only-of-type {\n",
       "        vertical-align: middle;\n",
       "    }\n",
       "\n",
       "    .dataframe tbody tr th {\n",
       "        vertical-align: top;\n",
       "    }\n",
       "\n",
       "    .dataframe thead th {\n",
       "        text-align: right;\n",
       "    }\n",
       "</style>\n",
       "<table border=\"1\" class=\"dataframe\">\n",
       "  <thead>\n",
       "    <tr style=\"text-align: right;\">\n",
       "      <th></th>\n",
       "      <th>x1</th>\n",
       "      <th>x2</th>\n",
       "      <th>x3</th>\n",
       "    </tr>\n",
       "  </thead>\n",
       "  <tbody>\n",
       "    <tr>\n",
       "      <th>0</th>\n",
       "      <td>4.414925</td>\n",
       "      <td>4.041984</td>\n",
       "      <td>1</td>\n",
       "    </tr>\n",
       "    <tr>\n",
       "      <th>1</th>\n",
       "      <td>-0.673020</td>\n",
       "      <td>-9.112093</td>\n",
       "      <td>1</td>\n",
       "    </tr>\n",
       "    <tr>\n",
       "      <th>2</th>\n",
       "      <td>3.560336</td>\n",
       "      <td>5.355580</td>\n",
       "      <td>1</td>\n",
       "    </tr>\n",
       "    <tr>\n",
       "      <th>3</th>\n",
       "      <td>3.322633</td>\n",
       "      <td>4.240135</td>\n",
       "      <td>1</td>\n",
       "    </tr>\n",
       "    <tr>\n",
       "      <th>4</th>\n",
       "      <td>1.870837</td>\n",
       "      <td>7.320539</td>\n",
       "      <td>1</td>\n",
       "    </tr>\n",
       "  </tbody>\n",
       "</table>\n",
       "</div>"
      ],
      "text/plain": [
       "         x1        x2  x3\n",
       "0  4.414925  4.041984   1\n",
       "1 -0.673020 -9.112093   1\n",
       "2  3.560336  5.355580   1\n",
       "3  3.322633  4.240135   1\n",
       "4  1.870837  7.320539   1"
      ]
     },
     "execution_count": 2,
     "metadata": {},
     "output_type": "execute_result"
    }
   ],
   "source": [
    "X, Y = make_blobs(n_samples=100, centers=2, n_features=2)\n",
    "X = pd.DataFrame(X)\n",
    "X.columns = ['x1', 'x2']\n",
    "X['x3']=1\n",
    "X.head()"
   ]
  },
  {
   "cell_type": "markdown",
   "metadata": {},
   "source": [
    "Scatter plotting the generated dataset"
   ]
  },
  {
   "cell_type": "code",
   "execution_count": 3,
   "metadata": {},
   "outputs": [
    {
     "data": {
      "image/png": "[encoded data removed]",
      "text/plain": [
       "<Figure size 432x288 with 1 Axes>"
      ]
     },
     "metadata": {
      "needs_background": "light"
     },
     "output_type": "display_data"
    }
   ],
   "source": [
    "#plot x1 and x2\n",
    "plt.scatter(X.x1, X.x2, c=Y)\n",
    "plt.show()"
   ]
  },
  {
   "cell_type": "markdown",
   "metadata": {},
   "source": [
    "Defining the sigmoid function \n",
    "\n",
    "$$ \\sigma(z) = \\frac{1} {1 + e^{-z}}$$"
   ]
  },
  {
   "cell_type": "code",
   "execution_count": 4,
   "metadata": {},
   "outputs": [],
   "source": [
    "#sigmoid function\n",
    "def sigmoid(z):\n",
    "    return 1 / (1 + np.exp(-z))"
   ]
  },
  {
   "cell_type": "code",
   "execution_count": 5,
   "metadata": {},
   "outputs": [
    {
     "data": {
      "image/png": "[encoded data removed]",
      "text/plain": [
       "<Figure size 432x288 with 1 Axes>"
      ]
     },
     "metadata": {
      "needs_background": "light"
     },
     "output_type": "display_data"
    }
   ],
   "source": [
    "#plot the logistic function\n",
    "x = np.linspace(-10, 10, 100)\n",
    "y = sigmoid(x)\n",
    "plt.plot(x, y)\n",
    "plt.show()"
   ]
  },
  {
   "cell_type": "markdown",
   "metadata": {},
   "source": [
    "### Logistic regression using LMS loss function\n",
    "\n",
    "We have chosen the initial value of $\\theta$ to be random and a bias of 0. The learning rate ($\\alpha$) is set to a small value of 0.001 and epochs value of 1000. For our logistic model, we define the hypothesis as following:\n",
    "\n",
    "$$ h(x) = \\sigma(\\theta^TX+b) $$\n"
   ]
  },
  {
   "cell_type": "markdown",
   "metadata": {},
   "source": [
    "\n",
    "We are using the cross entropy loss function for our gradient descent that is defined as follows:\n",
    "\n",
    "$$ L = - \\frac{1}{2m}(h-y)^2 $$\n",
    "\n",
    "Then after each iteration of gradient descent we are updating theta follows:\n",
    "\n",
    "$$ d\\theta = \\frac{1}{m}(h-y).X * (1-h).h $$\n",
    "$$ \\theta = \\theta - \\alpha. d\\theta^T $$\n",
    "\n",
    "And updating the bias as follows:\n",
    "\n",
    "$$ db = \\frac{1}{m}(1-h).h * (h - y)$$\n",
    "$$ b = b - \\alpha. db$$\n"
   ]
  },
  {
   "cell_type": "code",
   "execution_count": 6,
   "metadata": {},
   "outputs": [],
   "source": [
    "def logistic_regression(X, y, learning_rate=0.001, epochs=1000):\n",
    "    #initialize theta\n",
    "    theta = np.random.randn(X.shape[1])\n",
    "    m = len(y)\n",
    "    costArr = []\n",
    "    iters = 0\n",
    "    bias = 0\n",
    "    while iters < epochs:\n",
    "        h = sigmoid((np.dot(X, theta) + bias))\n",
    "        #lms cost function\n",
    "        cost = (1 / (2 * m)) * np.sum((h - y) ** 2)\n",
    "        costArr.append(cost)\n",
    "        if iters%100==0:\n",
    "            print(\"Iteration: \", iters, \" Cost: \", cost)\n",
    "        # dw = (1 / m) * np.dot( h - y, X) \n",
    "        dw = (1 / m) * np.dot(h - y, X) * np.dot(1 - h, h)\n",
    "        db = (1 / m) * np.dot(1 - h, h) * np.sum(h - y)\n",
    "        theta = theta - learning_rate * dw.T\n",
    "        bias = bias - learning_rate * db\n",
    "        iters += 1\n",
    "    return theta, costArr, bias"
   ]
  },
  {
   "cell_type": "markdown",
   "metadata": {},
   "source": [
    "### Plotting the loss function \n",
    "\n",
    "The plot below shows the loss after every 100 iterations through the dataset"
   ]
  },
  {
   "cell_type": "code",
   "execution_count": 7,
   "metadata": {},
   "outputs": [
    {
     "name": "stdout",
     "output_type": "stream",
     "text": [
      "Iteration:  0  Cost:  0.000747266128247794\n",
      "Iteration:  100  Cost:  0.0005806776699615173\n",
      "Iteration:  200  Cost:  0.0004768679573058242\n",
      "Iteration:  300  Cost:  0.0004057544097280455\n",
      "Iteration:  400  Cost:  0.00035387330394999255\n",
      "Iteration:  500  Cost:  0.0003142830870586396\n",
      "Iteration:  600  Cost:  0.0002830358071450865\n",
      "Iteration:  700  Cost:  0.0002577175572620289\n",
      "Iteration:  800  Cost:  0.00023676784433479525\n",
      "Iteration:  900  Cost:  0.0002191322239630267\n"
     ]
    },
    {
     "data": {
      "text/plain": [
       "array([-0.26683336, -0.77710468,  0.85231887])"
      ]
     },
     "execution_count": 7,
     "metadata": {},
     "output_type": "execute_result"
    }
   ],
   "source": [
    "random.seed(1)\n",
    "theta, costArr, bias = logistic_regression(X, Y)\n",
    "theta"
   ]
  },
  {
   "cell_type": "code",
   "execution_count": 8,
   "metadata": {},
   "outputs": [
    {
     "data": {
      "image/png": "[encoded data removed]",
      "text/plain": [
       "<Figure size 432x288 with 1 Axes>"
      ]
     },
     "metadata": {
      "needs_background": "light"
     },
     "output_type": "display_data"
    }
   ],
   "source": [
    "#plotting the cost array\n",
    "plt.plot(costArr)\n",
    "plt.show()"
   ]
  },
  {
   "cell_type": "markdown",
   "metadata": {},
   "source": [
    "### Plotting the Predictions\n",
    "\n",
    "The plot below visualizes the learnt prediction on the scatter plot of the input training dataset and the line showing the classification of data."
   ]
  },
  {
   "cell_type": "code",
   "execution_count": 9,
   "metadata": {},
   "outputs": [
    {
     "data": {
      "image/png": "[encoded data removed]",
      "text/plain": [
       "<Figure size 432x288 with 1 Axes>"
      ]
     },
     "metadata": {
      "needs_background": "light"
     },
     "output_type": "display_data"
    }
   ],
   "source": [
    "plt.scatter(X.x1, X.x2, c=Y)\n",
    "plt.plot(X.x1, -(theta[0]*X.x1+bias)/theta[1], 'b')\n",
    "plt.show()"
   ]
  },
  {
   "cell_type": "code",
   "execution_count": 10,
   "metadata": {},
   "outputs": [],
   "source": [
    "def predict(X, theta):\n",
    "    if sigmoid(np.dot(X, theta)) > 0.5:\n",
    "        return 1 \n",
    "    else:\n",
    "        return 0"
   ]
  }
 ],
 "metadata": {
  "interpreter": {
   "hash": "026007a54b015722dc632dde4328286653e652b9b042a307d4f8e87cf8c8db30"
  },
  "kernelspec": {
   "display_name": "Python 3",
   "language": "python",
   "name": "python3"
  },
  "language_info": {
   "codemirror_mode": {
    "name": "ipython",
    "version": 3
   },
   "file_extension": ".py",
   "mimetype": "text/x-python",
   "name": "python",
   "nbconvert_exporter": "python",
   "pygments_lexer": "ipython3",
   "version": "3.8.5"
  }
 },
 "nbformat": 4,
 "nbformat_minor": 2
}
